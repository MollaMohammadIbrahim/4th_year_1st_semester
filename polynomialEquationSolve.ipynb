{
  "cells": [
    {
      "cell_type": "markdown",
      "metadata": {
        "id": "view-in-github",
        "colab_type": "text"
      },
      "source": [
        "<a href=\"https://colab.research.google.com/github/MollaMohammadIbrahim/4th_year_1st_semester/blob/main/polynomialEquationSolve.ipynb\" target=\"_parent\"><img src=\"https://colab.research.google.com/assets/colab-badge.svg\" alt=\"Open In Colab\"/></a>"
      ]
    },
    {
      "cell_type": "markdown",
      "metadata": {
        "id": "8ktNq_7EMn3c"
      },
      "source": [
        "#Imports libraries"
      ]
    },
    {
      "cell_type": "code",
      "execution_count": null,
      "metadata": {
        "id": "jVlLheRgM-uh"
      },
      "outputs": [],
      "source": [
        "from tensorflow.keras.layers import Input, Dense\n",
        "from tensorflow.keras.models import Model\n",
        "import tensorflow as tf\n",
        "from keras.models import Sequential\n",
        "import numpy as np"
      ]
    },
    {
      "cell_type": "markdown",
      "metadata": {
        "id": "xQaZGjJANph3"
      },
      "source": [
        "#Generate dataset for x and y of eqn"
      ]
    },
    {
      "cell_type": "code",
      "execution_count": null,
      "metadata": {
        "id": "R1B4sgGJNg-3",
        "colab": {
          "base_uri": "https://localhost:8080/"
        },
        "outputId": "63e252af-30cc-465b-8239-66738a8c3a28"
      },
      "outputs": [
        {
          "output_type": "stream",
          "name": "stdout",
          "text": [
            "[[ 1.24692907]\n",
            " [ 3.78422733]\n",
            " [-2.59095676]\n",
            " [-7.77991984]\n",
            " [-9.27217321]\n",
            " [ 4.25708862]\n",
            " [ 4.62243465]\n",
            " [-0.79170608]\n",
            " [ 8.00642041]\n",
            " [-4.60901351]]\n"
          ]
        }
      ],
      "source": [
        "x = np.random.uniform(-10, 10, (10000,1)) #genereating 10k random number in range (-10 to 10)\n",
        "y = (3 * (x**3)) + (7 * (x**2)) - (12*x) + 2\n",
        "\n",
        "#printing some value\n",
        "print(x[:10])\n",
        "# print(y[:10])"
      ]
    },
    {
      "cell_type": "markdown",
      "metadata": {
        "id": "RBw4CwhyNoT_"
      },
      "source": [
        "#Building model"
      ]
    },
    {
      "cell_type": "code",
      "execution_count": null,
      "metadata": {
        "id": "cVjIwGeWOZuw",
        "colab": {
          "base_uri": "https://localhost:8080/"
        },
        "outputId": "4a8c9a4e-4ca5-4eba-a4b0-b9c4e654430b"
      },
      "outputs": [
        {
          "output_type": "stream",
          "name": "stdout",
          "text": [
            "Model: \"sequential\"\n",
            "_________________________________________________________________\n",
            " Layer (type)                Output Shape              Param #   \n",
            "=================================================================\n",
            " dense (Dense)               (None, 64)                128       \n",
            "                                                                 \n",
            " dense_1 (Dense)             (None, 32)                2080      \n",
            "                                                                 \n",
            " dense_2 (Dense)             (None, 1)                 33        \n",
            "                                                                 \n",
            "=================================================================\n",
            "Total params: 2,241\n",
            "Trainable params: 2,241\n",
            "Non-trainable params: 0\n",
            "_________________________________________________________________\n"
          ]
        }
      ],
      "source": [
        "model = tf.keras.models.Sequential([\n",
        "    tf.keras.layers.Dense(64,input_shape = (1,), activation = 'relu'), #input layer with 64 neuron\n",
        "    tf.keras.layers.Dense(32,activation = 'relu'), #hidden layer with 16 neuron\n",
        "    tf.keras.layers.Dense(1)  #outputt layer\n",
        "])\n",
        "model.summary()"
      ]
    },
    {
      "cell_type": "markdown",
      "metadata": {
        "id": "Gyo7z5lyPTDd"
      },
      "source": [
        "#Model compile"
      ]
    },
    {
      "cell_type": "code",
      "execution_count": null,
      "metadata": {
        "colab": {
          "base_uri": "https://localhost:8080/"
        },
        "id": "WCh0mYKsPaId",
        "outputId": "db929313-fb3f-4b61-a738-345c78698534"
      },
      "outputs": [
        {
          "output_type": "stream",
          "name": "stdout",
          "text": [
            "Epoch 1/100\n",
            "313/313 [==============================] - 6s 3ms/step - loss: 1125266.6250 - mean_absolute_error: 652.9827 - accuracy: 0.0000e+00\n",
            "Epoch 2/100\n",
            "313/313 [==============================] - 1s 4ms/step - loss: 423421.9375 - mean_absolute_error: 442.8090 - accuracy: 0.0000e+00\n",
            "Epoch 3/100\n",
            "313/313 [==============================] - 1s 4ms/step - loss: 238405.7812 - mean_absolute_error: 412.4894 - accuracy: 0.0000e+00\n",
            "Epoch 4/100\n",
            "313/313 [==============================] - 1s 3ms/step - loss: 221263.1875 - mean_absolute_error: 397.2986 - accuracy: 0.0000e+00\n",
            "Epoch 5/100\n",
            "313/313 [==============================] - 1s 3ms/step - loss: 205856.2188 - mean_absolute_error: 379.7513 - accuracy: 0.0000e+00\n",
            "Epoch 6/100\n",
            "313/313 [==============================] - 1s 3ms/step - loss: 191241.5469 - mean_absolute_error: 362.0417 - accuracy: 0.0000e+00\n",
            "Epoch 7/100\n",
            "313/313 [==============================] - 1s 3ms/step - loss: 176903.5312 - mean_absolute_error: 343.8504 - accuracy: 0.0000e+00\n",
            "Epoch 8/100\n",
            "313/313 [==============================] - 1s 3ms/step - loss: 162137.4219 - mean_absolute_error: 325.1804 - accuracy: 0.0000e+00\n",
            "Epoch 9/100\n",
            "313/313 [==============================] - 1s 3ms/step - loss: 147084.1562 - mean_absolute_error: 305.5577 - accuracy: 0.0000e+00\n",
            "Epoch 10/100\n",
            "313/313 [==============================] - 1s 3ms/step - loss: 131291.5469 - mean_absolute_error: 284.0690 - accuracy: 0.0000e+00\n",
            "Epoch 11/100\n",
            "313/313 [==============================] - 1s 3ms/step - loss: 114989.0938 - mean_absolute_error: 261.1622 - accuracy: 0.0000e+00\n",
            "Epoch 12/100\n",
            "313/313 [==============================] - 1s 3ms/step - loss: 98564.4531 - mean_absolute_error: 236.6549 - accuracy: 0.0000e+00\n",
            "Epoch 13/100\n",
            "313/313 [==============================] - 1s 3ms/step - loss: 82168.0859 - mean_absolute_error: 211.2133 - accuracy: 0.0000e+00\n",
            "Epoch 14/100\n",
            "313/313 [==============================] - 1s 4ms/step - loss: 66276.7578 - mean_absolute_error: 185.0812 - accuracy: 0.0000e+00\n",
            "Epoch 15/100\n",
            "313/313 [==============================] - 1s 4ms/step - loss: 51554.3398 - mean_absolute_error: 158.8035 - accuracy: 0.0000e+00\n",
            "Epoch 16/100\n",
            "313/313 [==============================] - 1s 3ms/step - loss: 38992.5938 - mean_absolute_error: 133.1979 - accuracy: 0.0000e+00\n",
            "Epoch 17/100\n",
            "313/313 [==============================] - 1s 3ms/step - loss: 28828.6113 - mean_absolute_error: 110.3460 - accuracy: 0.0000e+00\n",
            "Epoch 18/100\n",
            "313/313 [==============================] - 1s 3ms/step - loss: 21083.9492 - mean_absolute_error: 90.5773 - accuracy: 0.0000e+00\n",
            "Epoch 19/100\n",
            "313/313 [==============================] - 1s 3ms/step - loss: 15194.5332 - mean_absolute_error: 74.7546 - accuracy: 0.0000e+00\n",
            "Epoch 20/100\n",
            "313/313 [==============================] - 1s 3ms/step - loss: 10949.1445 - mean_absolute_error: 60.9974 - accuracy: 0.0000e+00\n",
            "Epoch 21/100\n",
            "313/313 [==============================] - 1s 3ms/step - loss: 7794.3599 - mean_absolute_error: 49.2943 - accuracy: 0.0000e+00\n",
            "Epoch 22/100\n",
            "313/313 [==============================] - 1s 3ms/step - loss: 5610.2876 - mean_absolute_error: 40.6050 - accuracy: 0.0000e+00\n",
            "Epoch 23/100\n",
            "313/313 [==============================] - 1s 3ms/step - loss: 3962.9939 - mean_absolute_error: 33.1278 - accuracy: 0.0000e+00\n",
            "Epoch 24/100\n",
            "313/313 [==============================] - 1s 3ms/step - loss: 2908.5208 - mean_absolute_error: 27.6242 - accuracy: 0.0000e+00\n",
            "Epoch 25/100\n",
            "313/313 [==============================] - 1s 3ms/step - loss: 2096.4382 - mean_absolute_error: 23.0850 - accuracy: 0.0000e+00\n",
            "Epoch 26/100\n",
            "313/313 [==============================] - 1s 4ms/step - loss: 1544.8204 - mean_absolute_error: 19.4212 - accuracy: 0.0000e+00\n",
            "Epoch 27/100\n",
            "313/313 [==============================] - 1s 4ms/step - loss: 1115.3658 - mean_absolute_error: 16.1751 - accuracy: 0.0000e+00\n",
            "Epoch 28/100\n",
            "313/313 [==============================] - 1s 3ms/step - loss: 824.1885 - mean_absolute_error: 13.6870 - accuracy: 0.0000e+00\n",
            "Epoch 29/100\n",
            "313/313 [==============================] - 1s 3ms/step - loss: 623.1293 - mean_absolute_error: 11.6550 - accuracy: 0.0000e+00\n",
            "Epoch 30/100\n",
            "313/313 [==============================] - 1s 3ms/step - loss: 485.8663 - mean_absolute_error: 10.3104 - accuracy: 0.0000e+00\n",
            "Epoch 31/100\n",
            "313/313 [==============================] - 1s 3ms/step - loss: 362.8490 - mean_absolute_error: 8.8601 - accuracy: 0.0000e+00\n",
            "Epoch 32/100\n",
            "313/313 [==============================] - 1s 3ms/step - loss: 280.3796 - mean_absolute_error: 7.7388 - accuracy: 0.0000e+00\n",
            "Epoch 33/100\n",
            "313/313 [==============================] - 1s 3ms/step - loss: 217.4702 - mean_absolute_error: 6.8991 - accuracy: 0.0000e+00\n",
            "Epoch 34/100\n",
            "313/313 [==============================] - 1s 3ms/step - loss: 165.5537 - mean_absolute_error: 5.8964 - accuracy: 0.0000e+00\n",
            "Epoch 35/100\n",
            "313/313 [==============================] - 1s 3ms/step - loss: 135.9698 - mean_absolute_error: 5.5033 - accuracy: 0.0000e+00\n",
            "Epoch 36/100\n",
            "313/313 [==============================] - 1s 4ms/step - loss: 110.1143 - mean_absolute_error: 5.0349 - accuracy: 0.0000e+00\n",
            "Epoch 37/100\n",
            "313/313 [==============================] - 1s 4ms/step - loss: 89.4162 - mean_absolute_error: 4.5683 - accuracy: 0.0000e+00\n",
            "Epoch 38/100\n",
            "313/313 [==============================] - 1s 4ms/step - loss: 66.2095 - mean_absolute_error: 3.9625 - accuracy: 0.0000e+00\n",
            "Epoch 39/100\n",
            "313/313 [==============================] - 1s 4ms/step - loss: 56.3587 - mean_absolute_error: 3.7554 - accuracy: 0.0000e+00\n",
            "Epoch 40/100\n",
            "313/313 [==============================] - 1s 3ms/step - loss: 43.6603 - mean_absolute_error: 3.2757 - accuracy: 0.0000e+00\n",
            "Epoch 41/100\n",
            "313/313 [==============================] - 1s 3ms/step - loss: 35.4085 - mean_absolute_error: 3.0120 - accuracy: 0.0000e+00\n",
            "Epoch 42/100\n",
            "313/313 [==============================] - 1s 3ms/step - loss: 31.2783 - mean_absolute_error: 2.9402 - accuracy: 0.0000e+00\n",
            "Epoch 43/100\n",
            "313/313 [==============================] - 1s 3ms/step - loss: 24.9385 - mean_absolute_error: 2.6542 - accuracy: 0.0000e+00\n",
            "Epoch 44/100\n",
            "313/313 [==============================] - 1s 3ms/step - loss: 23.8893 - mean_absolute_error: 2.6908 - accuracy: 0.0000e+00\n",
            "Epoch 45/100\n",
            "313/313 [==============================] - 1s 3ms/step - loss: 17.2427 - mean_absolute_error: 2.2855 - accuracy: 0.0000e+00\n",
            "Epoch 46/100\n",
            "313/313 [==============================] - 1s 3ms/step - loss: 14.0141 - mean_absolute_error: 2.1261 - accuracy: 0.0000e+00\n",
            "Epoch 47/100\n",
            "313/313 [==============================] - 1s 3ms/step - loss: 13.3280 - mean_absolute_error: 2.0882 - accuracy: 0.0000e+00\n",
            "Epoch 48/100\n",
            "313/313 [==============================] - 1s 3ms/step - loss: 11.7264 - mean_absolute_error: 2.0612 - accuracy: 0.0000e+00\n",
            "Epoch 49/100\n",
            "313/313 [==============================] - 1s 3ms/step - loss: 9.9467 - mean_absolute_error: 1.9032 - accuracy: 0.0000e+00\n",
            "Epoch 50/100\n",
            "313/313 [==============================] - 1s 4ms/step - loss: 9.7037 - mean_absolute_error: 1.8777 - accuracy: 0.0000e+00\n",
            "Epoch 51/100\n",
            "313/313 [==============================] - 1s 4ms/step - loss: 7.0433 - mean_absolute_error: 1.6071 - accuracy: 0.0000e+00\n",
            "Epoch 52/100\n",
            "313/313 [==============================] - 1s 3ms/step - loss: 6.4624 - mean_absolute_error: 1.5612 - accuracy: 0.0000e+00\n",
            "Epoch 53/100\n",
            "313/313 [==============================] - 1s 3ms/step - loss: 7.8299 - mean_absolute_error: 1.7383 - accuracy: 0.0000e+00\n",
            "Epoch 54/100\n",
            "313/313 [==============================] - 1s 3ms/step - loss: 4.9130 - mean_absolute_error: 1.3982 - accuracy: 0.0000e+00\n",
            "Epoch 55/100\n",
            "313/313 [==============================] - 1s 3ms/step - loss: 5.3558 - mean_absolute_error: 1.4536 - accuracy: 0.0000e+00\n",
            "Epoch 56/100\n",
            "313/313 [==============================] - 1s 3ms/step - loss: 4.7162 - mean_absolute_error: 1.3819 - accuracy: 0.0000e+00\n",
            "Epoch 57/100\n",
            "313/313 [==============================] - 1s 3ms/step - loss: 5.4424 - mean_absolute_error: 1.4563 - accuracy: 0.0000e+00\n",
            "Epoch 58/100\n",
            "313/313 [==============================] - 1s 3ms/step - loss: 4.0071 - mean_absolute_error: 1.2999 - accuracy: 0.0000e+00\n",
            "Epoch 59/100\n",
            "313/313 [==============================] - 1s 3ms/step - loss: 3.1108 - mean_absolute_error: 1.1529 - accuracy: 0.0000e+00\n",
            "Epoch 60/100\n",
            "313/313 [==============================] - 1s 3ms/step - loss: 3.7796 - mean_absolute_error: 1.2421 - accuracy: 0.0000e+00\n",
            "Epoch 61/100\n",
            "313/313 [==============================] - 1s 3ms/step - loss: 4.2079 - mean_absolute_error: 1.2566 - accuracy: 0.0000e+00\n",
            "Epoch 62/100\n",
            "313/313 [==============================] - 1s 4ms/step - loss: 2.6711 - mean_absolute_error: 1.0682 - accuracy: 0.0000e+00\n",
            "Epoch 63/100\n",
            "313/313 [==============================] - 1s 4ms/step - loss: 2.4305 - mean_absolute_error: 1.0510 - accuracy: 0.0000e+00\n",
            "Epoch 64/100\n",
            "313/313 [==============================] - 1s 3ms/step - loss: 2.8144 - mean_absolute_error: 1.0852 - accuracy: 0.0000e+00\n",
            "Epoch 65/100\n",
            "313/313 [==============================] - 1s 3ms/step - loss: 2.1788 - mean_absolute_error: 0.9528 - accuracy: 0.0000e+00\n",
            "Epoch 66/100\n",
            "313/313 [==============================] - 1s 3ms/step - loss: 2.4640 - mean_absolute_error: 1.0296 - accuracy: 0.0000e+00\n",
            "Epoch 67/100\n",
            "313/313 [==============================] - 1s 3ms/step - loss: 3.1369 - mean_absolute_error: 1.1194 - accuracy: 0.0000e+00\n",
            "Epoch 68/100\n",
            "313/313 [==============================] - 1s 3ms/step - loss: 3.2715 - mean_absolute_error: 1.0216 - accuracy: 0.0000e+00\n",
            "Epoch 69/100\n",
            "313/313 [==============================] - 1s 3ms/step - loss: 1.4015 - mean_absolute_error: 0.7915 - accuracy: 0.0000e+00\n",
            "Epoch 70/100\n",
            "313/313 [==============================] - 1s 3ms/step - loss: 1.6784 - mean_absolute_error: 0.8696 - accuracy: 0.0000e+00\n",
            "Epoch 71/100\n",
            "313/313 [==============================] - 1s 3ms/step - loss: 1.7368 - mean_absolute_error: 0.9012 - accuracy: 0.0000e+00\n",
            "Epoch 72/100\n",
            "313/313 [==============================] - 1s 3ms/step - loss: 2.4135 - mean_absolute_error: 0.9933 - accuracy: 0.0000e+00\n",
            "Epoch 73/100\n",
            "313/313 [==============================] - 1s 3ms/step - loss: 1.6846 - mean_absolute_error: 0.8697 - accuracy: 0.0000e+00\n",
            "Epoch 74/100\n",
            "313/313 [==============================] - 1s 4ms/step - loss: 2.2662 - mean_absolute_error: 0.8942 - accuracy: 0.0000e+00\n",
            "Epoch 75/100\n",
            "313/313 [==============================] - 1s 4ms/step - loss: 1.5844 - mean_absolute_error: 0.8327 - accuracy: 0.0000e+00\n",
            "Epoch 76/100\n",
            "313/313 [==============================] - 1s 3ms/step - loss: 1.5876 - mean_absolute_error: 0.7867 - accuracy: 0.0000e+00\n",
            "Epoch 77/100\n",
            "313/313 [==============================] - 1s 3ms/step - loss: 2.0258 - mean_absolute_error: 0.8854 - accuracy: 0.0000e+00\n",
            "Epoch 78/100\n",
            "313/313 [==============================] - 1s 3ms/step - loss: 1.8360 - mean_absolute_error: 0.8116 - accuracy: 0.0000e+00\n",
            "Epoch 79/100\n",
            "313/313 [==============================] - 1s 3ms/step - loss: 1.4487 - mean_absolute_error: 0.7612 - accuracy: 0.0000e+00\n",
            "Epoch 80/100\n",
            "313/313 [==============================] - 1s 3ms/step - loss: 1.2012 - mean_absolute_error: 0.7305 - accuracy: 0.0000e+00\n",
            "Epoch 81/100\n",
            "313/313 [==============================] - 1s 3ms/step - loss: 2.8681 - mean_absolute_error: 0.9449 - accuracy: 0.0000e+00\n",
            "Epoch 82/100\n",
            "313/313 [==============================] - 1s 3ms/step - loss: 2.8275 - mean_absolute_error: 0.9396 - accuracy: 0.0000e+00\n",
            "Epoch 83/100\n",
            "313/313 [==============================] - 1s 3ms/step - loss: 1.6903 - mean_absolute_error: 0.7900 - accuracy: 0.0000e+00\n",
            "Epoch 84/100\n",
            "313/313 [==============================] - 1s 3ms/step - loss: 0.8643 - mean_absolute_error: 0.5965 - accuracy: 0.0000e+00\n",
            "Epoch 85/100\n",
            "313/313 [==============================] - 1s 3ms/step - loss: 2.4985 - mean_absolute_error: 0.8769 - accuracy: 0.0000e+00\n",
            "Epoch 86/100\n",
            "313/313 [==============================] - 1s 4ms/step - loss: 1.9695 - mean_absolute_error: 0.8091 - accuracy: 0.0000e+00\n",
            "Epoch 87/100\n",
            "313/313 [==============================] - 1s 4ms/step - loss: 0.8098 - mean_absolute_error: 0.5789 - accuracy: 0.0000e+00\n",
            "Epoch 88/100\n",
            "313/313 [==============================] - 1s 3ms/step - loss: 1.3523 - mean_absolute_error: 0.7029 - accuracy: 0.0000e+00\n",
            "Epoch 89/100\n",
            "313/313 [==============================] - 1s 3ms/step - loss: 2.3758 - mean_absolute_error: 0.8832 - accuracy: 0.0000e+00\n",
            "Epoch 90/100\n",
            "313/313 [==============================] - 1s 3ms/step - loss: 5.3682 - mean_absolute_error: 0.9585 - accuracy: 0.0000e+00\n",
            "Epoch 91/100\n",
            "313/313 [==============================] - 1s 3ms/step - loss: 1.7378 - mean_absolute_error: 0.6646 - accuracy: 0.0000e+00\n",
            "Epoch 92/100\n",
            "313/313 [==============================] - 1s 3ms/step - loss: 0.7446 - mean_absolute_error: 0.5546 - accuracy: 0.0000e+00\n",
            "Epoch 93/100\n",
            "313/313 [==============================] - 1s 3ms/step - loss: 0.6751 - mean_absolute_error: 0.5230 - accuracy: 0.0000e+00\n",
            "Epoch 94/100\n",
            "313/313 [==============================] - 1s 3ms/step - loss: 2.3550 - mean_absolute_error: 0.8250 - accuracy: 0.0000e+00\n",
            "Epoch 95/100\n",
            "313/313 [==============================] - 1s 3ms/step - loss: 3.3536 - mean_absolute_error: 0.8509 - accuracy: 0.0000e+00\n",
            "Epoch 96/100\n",
            "313/313 [==============================] - 1s 3ms/step - loss: 0.5923 - mean_absolute_error: 0.5065 - accuracy: 0.0000e+00\n",
            "Epoch 97/100\n",
            "313/313 [==============================] - 1s 3ms/step - loss: 0.6010 - mean_absolute_error: 0.5115 - accuracy: 0.0000e+00\n",
            "Epoch 98/100\n",
            "313/313 [==============================] - 1s 4ms/step - loss: 1.8256 - mean_absolute_error: 0.7353 - accuracy: 0.0000e+00\n",
            "Epoch 99/100\n",
            "313/313 [==============================] - 1s 4ms/step - loss: 2.5841 - mean_absolute_error: 0.7855 - accuracy: 0.0000e+00\n",
            "Epoch 100/100\n",
            "313/313 [==============================] - 1s 3ms/step - loss: 0.7331 - mean_absolute_error: 0.5266 - accuracy: 0.0000e+00\n"
          ]
        },
        {
          "output_type": "execute_result",
          "data": {
            "text/plain": [
              "<keras.callbacks.History at 0x7fb1e8080820>"
            ]
          },
          "metadata": {},
          "execution_count": 4
        }
      ],
      "source": [
        "#compiling the model\n",
        "model.compile(optimizer = 'adam',loss = 'mean_squared_error',metrics=['mean_absolute_error','accuracy'])\n",
        "model.fit(x,y,epochs=100)\n"
      ]
    },
    {
      "cell_type": "markdown",
      "metadata": {
        "id": "kINh_A2dSW_w"
      },
      "source": [
        "#predict the value of equation"
      ]
    },
    {
      "cell_type": "code",
      "execution_count": null,
      "metadata": {
        "colab": {
          "base_uri": "https://localhost:8080/"
        },
        "id": "PLjJ-YprQFru",
        "outputId": "e3912c08-425a-4790-9273-6c905f509e54"
      },
      "outputs": [
        {
          "output_type": "stream",
          "name": "stdout",
          "text": [
            "1/1 [==============================] - 0s 80ms/step\n"
          ]
        }
      ],
      "source": [
        "input = np.array([0,-1,1,-2,2,3,-3]) #preparing input array\n",
        "output = model.predict(input) # predict the array by the mod"
      ]
    },
    {
      "cell_type": "markdown",
      "metadata": {
        "id": "xohJUMXOTGYY"
      },
      "source": [
        "###print the value of input and the prediction."
      ]
    },
    {
      "cell_type": "code",
      "execution_count": null,
      "metadata": {
        "colab": {
          "base_uri": "https://localhost:8080/"
        },
        "id": "ncp4VvP4TCZN",
        "outputId": "6e8fc2f1-139a-4149-c950-865b3bfb32f9"
      },
      "outputs": [
        {
          "output_type": "stream",
          "name": "stdout",
          "text": [
            "input =  0     Actual value = 2.00     predicted Value = 2.00\n",
            "input =  -1     Actual value = 18.00     predicted Value = 18.00\n",
            "input =  1     Actual value = 0.00     predicted Value = -1.00\n",
            "input =  -2     Actual value = 30.00     predicted Value = 30.00\n",
            "input =  2     Actual value = 30.00     predicted Value = 30.00\n",
            "input =  3     Actual value = 110.00     predicted Value = 110.00\n",
            "input =  -3     Actual value = 20.00     predicted Value = 21.00\n"
          ]
        }
      ],
      "source": [
        "from tempfile import TemporaryDirectory\n",
        "for i in range(0,len(input)):\n",
        "  print('input = ',input[i],end = \"     \")\n",
        "  temp = (3 * (input[i]**3)) + (7 * (input[i]**2)) - (12*input[i]) + 2\n",
        "  print('Actual value = {0:.2f}'.format(round(temp)), end = \"     \")\n",
        "  print(\"predicted Value = {0:.2f}\".format(round(output[i][0])))"
      ]
    },
    {
      "cell_type": "code",
      "source": [],
      "metadata": {
        "id": "f0sLdhKSDOje"
      },
      "execution_count": null,
      "outputs": []
    }
  ],
  "metadata": {
    "accelerator": "GPU",
    "colab": {
      "provenance": [],
      "include_colab_link": true
    },
    "gpuClass": "standard",
    "kernelspec": {
      "display_name": "Python 3",
      "name": "python3"
    },
    "language_info": {
      "name": "python"
    }
  },
  "nbformat": 4,
  "nbformat_minor": 0
}